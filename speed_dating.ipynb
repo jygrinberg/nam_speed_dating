{
 "cells": [
  {
   "cell_type": "markdown",
   "metadata": {},
   "source": [
    "# Instructions\n",
    "Enter the number of time blocks and partcipant names below. Newer NAMers first and long-timer NAMers last."
   ]
  },
  {
   "cell_type": "code",
   "execution_count": 4,
   "metadata": {},
   "outputs": [
    {
     "name": "stdout",
     "output_type": "stream",
     "text": [
      "Name\t8:10pm to 8:15pm\t8:15pm to 8:20pm\t8:20pm to 8:25pm\t8:25pm to 8:30pm\t8:30pm to 8:35pm\t8:35pm to 8:40pm\t8:40pm to 8:45pm\n",
      "Jennifer Salzberg\t=HYPERLINK(\"meet.google.com/bng-zphm-ijz\", \"ROOM\")\t=HYPERLINK(\"meet.google.com/bng-zphm-ijz\", \"ROOM\")\t=HYPERLINK(\"meet.google.com/bng-zphm-ijz\", \"ROOM\")\t=HYPERLINK(\"meet.google.com/bng-zphm-ijz\", \"ROOM\")\t=HYPERLINK(\"meet.google.com/bng-zphm-ijz\", \"ROOM\")\t=HYPERLINK(\"meet.google.com/bng-zphm-ijz\", \"ROOM\")\t=HYPERLINK(\"meet.google.com/bng-zphm-ijz\", \"ROOM\")\n",
      "Meir and Chanala Zimmerman\t=HYPERLINK(\"meet.google.com/exa-qwwg-ohh\", \"ROOM\")\t=HYPERLINK(\"meet.google.com/exa-qwwg-ohh\", \"ROOM\")\t=HYPERLINK(\"meet.google.com/exa-qwwg-ohh\", \"ROOM\")\t=HYPERLINK(\"meet.google.com/exa-qwwg-ohh\", \"ROOM\")\t=HYPERLINK(\"meet.google.com/exa-qwwg-ohh\", \"ROOM\")\t=HYPERLINK(\"meet.google.com/exa-qwwg-ohh\", \"ROOM\")\t=HYPERLINK(\"meet.google.com/exa-qwwg-ohh\", \"ROOM\")\n",
      "Talia Greenstein & Dov Hochsztein\t=HYPERLINK(\"meet.google.com/btf-yfvd-nif\", \"ROOM\")\t=HYPERLINK(\"meet.google.com/btf-yfvd-nif\", \"ROOM\")\t=HYPERLINK(\"meet.google.com/btf-yfvd-nif\", \"ROOM\")\t=HYPERLINK(\"meet.google.com/btf-yfvd-nif\", \"ROOM\")\t=HYPERLINK(\"meet.google.com/btf-yfvd-nif\", \"ROOM\")\t=HYPERLINK(\"meet.google.com/btf-yfvd-nif\", \"ROOM\")\t=HYPERLINK(\"meet.google.com/btf-yfvd-nif\", \"ROOM\")\n",
      "Josh and Goldie Grinberg\t=HYPERLINK(\"meet.google.com/uir-zwqs-yrx\", \"ROOM\")\t=HYPERLINK(\"meet.google.com/uir-zwqs-yrx\", \"ROOM\")\t=HYPERLINK(\"meet.google.com/uir-zwqs-yrx\", \"ROOM\")\t=HYPERLINK(\"meet.google.com/uir-zwqs-yrx\", \"ROOM\")\t=HYPERLINK(\"meet.google.com/uir-zwqs-yrx\", \"ROOM\")\t=HYPERLINK(\"meet.google.com/uir-zwqs-yrx\", \"ROOM\")\t=HYPERLINK(\"meet.google.com/uir-zwqs-yrx\", \"ROOM\")\n",
      "Naomi and Ben Schwartz \t=HYPERLINK(\"meet.google.com/onb-vpxw-tzu\", \"ROOM\")\t=HYPERLINK(\"meet.google.com/onb-vpxw-tzu\", \"ROOM\")\t=HYPERLINK(\"meet.google.com/onb-vpxw-tzu\", \"ROOM\")\t=HYPERLINK(\"meet.google.com/onb-vpxw-tzu\", \"ROOM\")\t=HYPERLINK(\"meet.google.com/onb-vpxw-tzu\", \"ROOM\")\t=HYPERLINK(\"meet.google.com/onb-vpxw-tzu\", \"ROOM\")\t=HYPERLINK(\"meet.google.com/onb-vpxw-tzu\", \"ROOM\")\n",
      "Abby and Joe\t=HYPERLINK(\"meet.google.com/zie-tzbi-gfi\", \"ROOM\")\t=HYPERLINK(\"meet.google.com/zie-tzbi-gfi\", \"ROOM\")\t=HYPERLINK(\"meet.google.com/zie-tzbi-gfi\", \"ROOM\")\t=HYPERLINK(\"meet.google.com/zie-tzbi-gfi\", \"ROOM\")\t=HYPERLINK(\"meet.google.com/zie-tzbi-gfi\", \"ROOM\")\t=HYPERLINK(\"meet.google.com/zie-tzbi-gfi\", \"ROOM\")\t=HYPERLINK(\"meet.google.com/zie-tzbi-gfi\", \"ROOM\")\n",
      "Leia Mendelovitz\t=HYPERLINK(\"meet.google.com/qhu-bhsx-gak\", \"ROOM\")\t=HYPERLINK(\"meet.google.com/qhu-bhsx-gak\", \"ROOM\")\t=HYPERLINK(\"meet.google.com/qhu-bhsx-gak\", \"ROOM\")\t=HYPERLINK(\"meet.google.com/qhu-bhsx-gak\", \"ROOM\")\t=HYPERLINK(\"meet.google.com/qhu-bhsx-gak\", \"ROOM\")\t=HYPERLINK(\"meet.google.com/qhu-bhsx-gak\", \"ROOM\")\t=HYPERLINK(\"meet.google.com/qhu-bhsx-gak\", \"ROOM\")\n",
      "Kelmans\t=HYPERLINK(\"meet.google.com/bng-zphm-ijz\", \"ROOM\")\t=HYPERLINK(\"meet.google.com/exa-qwwg-ohh\", \"ROOM\")\t=HYPERLINK(\"meet.google.com/btf-yfvd-nif\", \"ROOM\")\t=HYPERLINK(\"meet.google.com/uir-zwqs-yrx\", \"ROOM\")\t=HYPERLINK(\"meet.google.com/onb-vpxw-tzu\", \"ROOM\")\t=HYPERLINK(\"meet.google.com/zie-tzbi-gfi\", \"ROOM\")\t=HYPERLINK(\"meet.google.com/qhu-bhsx-gak\", \"ROOM\")\n",
      "Michael Kosowsky \t=HYPERLINK(\"meet.google.com/exa-qwwg-ohh\", \"ROOM\")\t=HYPERLINK(\"meet.google.com/btf-yfvd-nif\", \"ROOM\")\t=HYPERLINK(\"meet.google.com/uir-zwqs-yrx\", \"ROOM\")\t=HYPERLINK(\"meet.google.com/onb-vpxw-tzu\", \"ROOM\")\t=HYPERLINK(\"meet.google.com/zie-tzbi-gfi\", \"ROOM\")\t=HYPERLINK(\"meet.google.com/qhu-bhsx-gak\", \"ROOM\")\t=HYPERLINK(\"meet.google.com/bng-zphm-ijz\", \"ROOM\")\n",
      "Leia Mendelovitz\t=HYPERLINK(\"meet.google.com/btf-yfvd-nif\", \"ROOM\")\t=HYPERLINK(\"meet.google.com/uir-zwqs-yrx\", \"ROOM\")\t=HYPERLINK(\"meet.google.com/onb-vpxw-tzu\", \"ROOM\")\t=HYPERLINK(\"meet.google.com/zie-tzbi-gfi\", \"ROOM\")\t=HYPERLINK(\"meet.google.com/qhu-bhsx-gak\", \"ROOM\")\t=HYPERLINK(\"meet.google.com/bng-zphm-ijz\", \"ROOM\")\t=HYPERLINK(\"meet.google.com/exa-qwwg-ohh\", \"ROOM\")\n",
      "Shmuel & Michelle Beer \t=HYPERLINK(\"meet.google.com/uir-zwqs-yrx\", \"ROOM\")\t=HYPERLINK(\"meet.google.com/onb-vpxw-tzu\", \"ROOM\")\t=HYPERLINK(\"meet.google.com/zie-tzbi-gfi\", \"ROOM\")\t=HYPERLINK(\"meet.google.com/qhu-bhsx-gak\", \"ROOM\")\t=HYPERLINK(\"meet.google.com/bng-zphm-ijz\", \"ROOM\")\t=HYPERLINK(\"meet.google.com/exa-qwwg-ohh\", \"ROOM\")\t=HYPERLINK(\"meet.google.com/btf-yfvd-nif\", \"ROOM\")\n",
      "Jack and Rebecca Podolsky\t=HYPERLINK(\"meet.google.com/onb-vpxw-tzu\", \"ROOM\")\t=HYPERLINK(\"meet.google.com/zie-tzbi-gfi\", \"ROOM\")\t=HYPERLINK(\"meet.google.com/qhu-bhsx-gak\", \"ROOM\")\t=HYPERLINK(\"meet.google.com/bng-zphm-ijz\", \"ROOM\")\t=HYPERLINK(\"meet.google.com/exa-qwwg-ohh\", \"ROOM\")\t=HYPERLINK(\"meet.google.com/btf-yfvd-nif\", \"ROOM\")\t=HYPERLINK(\"meet.google.com/uir-zwqs-yrx\", \"ROOM\")\n",
      "Ilana and Hillel Hochsztein\t=HYPERLINK(\"meet.google.com/zie-tzbi-gfi\", \"ROOM\")\t=HYPERLINK(\"meet.google.com/qhu-bhsx-gak\", \"ROOM\")\t=HYPERLINK(\"meet.google.com/bng-zphm-ijz\", \"ROOM\")\t=HYPERLINK(\"meet.google.com/exa-qwwg-ohh\", \"ROOM\")\t=HYPERLINK(\"meet.google.com/btf-yfvd-nif\", \"ROOM\")\t=HYPERLINK(\"meet.google.com/uir-zwqs-yrx\", \"ROOM\")\t=HYPERLINK(\"meet.google.com/onb-vpxw-tzu\", \"ROOM\")\n",
      "Shana Maikhor\t=HYPERLINK(\"meet.google.com/qhu-bhsx-gak\", \"ROOM\")\t=HYPERLINK(\"meet.google.com/bng-zphm-ijz\", \"ROOM\")\t=HYPERLINK(\"meet.google.com/exa-qwwg-ohh\", \"ROOM\")\t=HYPERLINK(\"meet.google.com/btf-yfvd-nif\", \"ROOM\")\t=HYPERLINK(\"meet.google.com/uir-zwqs-yrx\", \"ROOM\")\t=HYPERLINK(\"meet.google.com/onb-vpxw-tzu\", \"ROOM\")\t=HYPERLINK(\"meet.google.com/zie-tzbi-gfi\", \"ROOM\")\n",
      "\n"
     ]
    }
   ],
   "source": [
    "NUM_BLOCKS = 7\n",
    "NAMES = \"\"\"\n",
    "Jennifer Salzberg\n",
    "Meir and Chanala Zimmerman\n",
    "Talia Greenstein & Dov Hochsztein\n",
    "Josh and Goldie Grinberg\n",
    "Naomi and Ben Schwartz \n",
    "Abby and Joe\n",
    "Leia Mendelovitz\n",
    "Kelmans\n",
    "Michael Kosowsky \n",
    "Leia Mendelovitz\n",
    "Shmuel & Michelle Beer \n",
    "Jack and Rebecca Podolsky\n",
    "Ilana and Hillel Hochsztein\n",
    "Shana Maikhor\n",
    "\"\"\".split('\\n')[1:-1]\n",
    "\n",
    "ROOM_URLS = [\n",
    "    \"meet.google.com/bng-zphm-ijz\",\n",
    "    \"meet.google.com/exa-qwwg-ohh\",\n",
    "    \"meet.google.com/btf-yfvd-nif\",\n",
    "    \"meet.google.com/uir-zwqs-yrx\",\n",
    "    \"meet.google.com/onb-vpxw-tzu\",\n",
    "    \"meet.google.com/zie-tzbi-gfi\",\n",
    "    \"meet.google.com/qhu-bhsx-gak\",\n",
    "]\n",
    "\n",
    "num_rooms = int(len(NAMES) / 2)\n",
    "assert len(ROOM_URLS) >= num_rooms, \"Need at least {} rooms URLs but was only given {}.\".format(num_rooms, len(ROOM_URLS))\n",
    "\n",
    "# Generate room assignments.\n",
    "def compute_room(id, block):\n",
    "    if id == 2 * num_rooms:\n",
    "        # This person will be in groups of three. \n",
    "        return (id + (num_rooms - 1) * block) % num_rooms\n",
    "    elif id < num_rooms:\n",
    "        return id\n",
    "    else:\n",
    "        return (id + block) % num_rooms\n",
    "\n",
    "# Format is: block_to_id_to_room[block][name_id] = room_id\n",
    "block_to_id_to_room = [\n",
    "    [compute_room(id, block) for id in range(len(NAMES))]\n",
    "    for block in range(NUM_BLOCKS)\n",
    "]\n",
    "\n",
    "def block_to_time(block):\n",
    "    start_min = block * 5 + 10\n",
    "    end_min = (block + 1) * 5 + 10\n",
    "    return '8:' + f'{start_min:02}' + 'pm to 8:' + f'{end_min:02}' + 'pm'\n",
    "\n",
    "# Print CSV.\n",
    "columns = [\"Name\"]\n",
    "columns += [block_to_time(block) for block in range(NUM_BLOCKS)]\n",
    "columns_tsv = '\\t'.join(columns)\n",
    "rows_tsv = ''\n",
    "for name_id in range(len(NAMES)):\n",
    "    rows_tsv += NAMES[name_id] + '\\t'\n",
    "    rows_tsv += '\\t'.join([\n",
    "        '=HYPERLINK(\"' + ROOM_URLS[block_to_id_to_room[block][name_id]] + '\", \"ROOM\")'\n",
    "        for block in range(NUM_BLOCKS)]) + '\\n'\n",
    "print(columns_tsv)\n",
    "print(rows_tsv)\n"
   ]
  }
 ],
 "metadata": {
  "kernelspec": {
   "display_name": "Python 3",
   "language": "python",
   "name": "python3"
  },
  "language_info": {
   "codemirror_mode": {
    "name": "ipython",
    "version": 3
   },
   "file_extension": ".py",
   "mimetype": "text/x-python",
   "name": "python",
   "nbconvert_exporter": "python",
   "pygments_lexer": "ipython3",
   "version": "3.6.9"
  }
 },
 "nbformat": 4,
 "nbformat_minor": 4
}
